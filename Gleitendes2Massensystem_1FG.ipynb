{
 "cells": [
  {
   "cell_type": "markdown",
   "id": "8d36d26a",
   "metadata": {},
   "source": [
    "# Gleitendes Zwei-Massen-System\n",
    "Es wird die Aufgabe 4.1 aus Klepp: \"Analytische Methoden\" (Teil a) behandelt. Dieses Dokument betrachtet den Fall mit einem Freiheitsgrad. Es wird die Bewegungsgleichung hergeleitet und diese anschließend linearisiert. Beides erfolgt symbolisch."
   ]
  },
  {
   "cell_type": "markdown",
   "id": "094a1700",
   "metadata": {},
   "source": [
    "## Systembeschreibung\n",
    "Das System besteht aus zwei Massen m<sub>1</sub> und m<sub>2</sub>, die jeweils parallel zu einer der Koordinatenachsen gleiten können. Ihre Mittelpunkte sind durch eine masselose starre Stange der Länge l verbunden. Die Masse m<sub>1</sub> ist mit einer Feder verbunden, die parallel zur Bewegungsrichtung wirkt. Zusätzlich wirken Gewichtskräfte (in negativer y-Richtung). Als unabhängiger Freiheitsgrad ist der Winkel $\\varphi$ gewählt, den die Stange mit der y-Achse bildet."
   ]
  },
  {
   "attachments": {
    "Systemskizze.png": {
     "image/png": "[encoded data removed]"
    }
   },
   "cell_type": "markdown",
   "id": "59726543",
   "metadata": {},
   "source": [
    "![Systemskizze.png](attachment:Systemskizze.png)\n",
    "Bild 1: Systemskizze"
   ]
  },
  {
   "cell_type": "markdown",
   "id": "88c922b8",
   "metadata": {},
   "source": [
    "## Aufstellen der Bewegungsgleichung\n",
    "Zunächst werden die Variablen und Parameter definiert. Der Positionswinkel wird mit q bezeichnet."
   ]
  },
  {
   "cell_type": "code",
   "execution_count": 19,
   "id": "9241cce8",
   "metadata": {},
   "outputs": [],
   "source": [
    "from sympy import symbols, Matrix, sin, cos, trigsimp\n",
    "from sympy.physics.mechanics import *\n",
    "\n",
    "Vector.simplify = True\n",
    "Matrix.simplify = True\n",
    "\n",
    "q = dynamicsymbols('q')\n",
    "qd = dynamicsymbols('q', 1)\n",
    "qdd = dynamicsymbols('q2', 2)\n",
    "\n",
    "l, m1, m2, g, c = symbols('l m1 m2 g c')"
   ]
  },
  {
   "cell_type": "markdown",
   "id": "cbb1fad1",
   "metadata": {},
   "source": [
    "Dann werden Bezugspunkte definiert:\n",
    "- O ist ein feststehender Punkt (Geschwindigkeit wird explizit null gesetzt)\n",
    "- P1 ist der Mittelpunkt der Masse m<sub>1\n",
    "- P2 ist der Mittelpunkt der Masse m<sub>2"
   ]
  },
  {
   "cell_type": "code",
   "execution_count": 20,
   "id": "da914836",
   "metadata": {},
   "outputs": [],
   "source": [
    "N = ReferenceFrame('N') # inertial coordinate system\n",
    "\n",
    "O = Point('O')\n",
    "O.set_vel(N,0*N.x) # zero velocity (tbd as vector)\n",
    "\n",
    "P1 = O.locatenew('P1', l * sin(q) * N.x)\n",
    "P2 = O.locatenew('P2', l * cos(q) * N.y)"
   ]
  },
  {
   "cell_type": "markdown",
   "id": "498eeede",
   "metadata": {},
   "source": [
    "Anschließend werden die beiden Massen definiert."
   ]
  },
  {
   "cell_type": "code",
   "execution_count": 21,
   "id": "a741c7a4",
   "metadata": {},
   "outputs": [],
   "source": [
    "ParM1 = Particle('ParM1', P1, m1)\n",
    "ParM2 = Particle('ParM1', P2, m2)"
   ]
  },
  {
   "cell_type": "markdown",
   "id": "acf99ff6",
   "metadata": {},
   "source": [
    "Nun folgt die Bestimmung der Potentiale. Hier wirken beide Kräfte in negativer Koordinatenrichtung. Da eine Kraft die negative Ableitung des Potenzials ist, die Kräfte hier in negativer Koordinatenrichtung wirken sind die Potentiale positiv. Formal wird das Potential jeweils aus den Energieparametern und dem Skalarprodukt aus Richtungsvektoren gebildet (Potential ist ein Skalar). Diese müssen über den unabhängigen Freiheitsgrad beschrieben werden, wozu die in den Klassen der Punkte enthaltenen Koordinaten verwendet werden. Im Fall der Feder bestimmt der Vektor zum Mittelpunkt der Masse m<sub>1</sub> die Federkraft (entspannte Lage, wenn Masse im Koordinatenursprung liegt) und die Richtung und dann auch den Weg der Arbeit. Im Fall des Gewichtes ist der Koordinaten-Einheitsvektor parallel zur Kraftrichtung, der Weg der Arbeit wird wiederum vom Vektor zum Mittelpunkt der Masse bestimmt."
   ]
  },
  {
   "cell_type": "code",
   "execution_count": 22,
   "id": "dad7a1db",
   "metadata": {},
   "outputs": [],
   "source": [
    "ParM1.potential_energy = 1/2 * c * dot(P1.pos_from(O),P1.pos_from(O))\n",
    "ParM2.potential_energy = m2 * g * dot(N.y,P2.pos_from(O))"
   ]
  },
  {
   "cell_type": "markdown",
   "id": "ea2951b7",
   "metadata": {},
   "source": [
    "Mit diesen Definition kann die Lagrange-Gleichung bestimmt werden. Die Ausgabe erfolgt als herkömmliche Bewegungsgleichung sowie in Zustandsraumdarstellung."
   ]
  },
  {
   "cell_type": "code",
   "execution_count": 23,
   "id": "e1cef7df",
   "metadata": {
    "scrolled": true
   },
   "outputs": [
    {
     "name": "stdout",
     "output_type": "stream",
     "text": [
      "equations:\n",
      "Matrix([[1.0*c*l**2*sin(q)*cos(q) - g*l*m2*sin(q) - l**2*m1*sin(q)*cos(q)*q'**2 + l**2*m1*cos(q)**2*q'' + l**2*m2*sin(q)**2*q'' + l**2*m2*sin(q)*cos(q)*q'**2]])\n",
      "mass matrix:\n",
      "Matrix([\n",
      "[1,                                     0],\n",
      "[0, l**2*m1*cos(q)**2 + l**2*m2*sin(q)**2]])\n",
      "force matrix:\n",
      "Matrix([\n",
      "[                                                                                                   q'],\n",
      "[-1.0*c*l**2*sin(q)*cos(q) + g*l*m2*sin(q) + l**2*m1*sin(q)*cos(q)*q'**2 - l**2*m2*sin(q)*cos(q)*q'**2]])\n"
     ]
    }
   ],
   "source": [
    "L = Lagrangian(N, ParM1, ParM2)\n",
    "\n",
    "lm = LagrangesMethod(L, [q], bodies=[ParM1, ParM2])\n",
    "lm.form_lagranges_equations()\n",
    "\n",
    "print('equations:')\n",
    "vprint(lm.form_lagranges_equations())\n",
    "print('mass matrix:')\n",
    "vprint(lm.mass_matrix_full)\n",
    "print('force matrix:')\n",
    "vprint(lm.forcing_full)"
   ]
  },
  {
   "cell_type": "markdown",
   "id": "d12b52f4",
   "metadata": {},
   "source": [
    "## Linearisierung\n",
    "Die Bewegungsgleichung wird bei $\\varphi$=q=0 linearisiert und das Ergebnis in Zustandsraumdarstellung ausgegeben."
   ]
  },
  {
   "cell_type": "code",
   "execution_count": 24,
   "id": "6cd33206",
   "metadata": {},
   "outputs": [
    {
     "name": "stdout",
     "output_type": "stream",
     "text": [
      " \n",
      "linear mass matrix:\n",
      "Matrix([\n",
      "[1,       0],\n",
      "[0, l**2*m1]])\n",
      "linear force matrix:\n",
      "Matrix([\n",
      "[                   0, 1],\n",
      "[-1.0*c*l**2 + g*l*m2, 0]])\n",
      "linear matrix B:\n",
      "Matrix(0, 0, [])\n"
     ]
    }
   ],
   "source": [
    "lm_lin = lm.to_linearizer(q_ind=[q], qd_ind=[qd])\n",
    "\n",
    "op_point = {q: 0, qd: 0}\n",
    "\n",
    "M, A, B = lm_lin.linearize(op_point=op_point)\n",
    "\n",
    "print(' ')\n",
    "print('linear mass matrix:')\n",
    "vprint(M)\n",
    "print('linear force matrix:')             \n",
    "vprint(A)\n",
    "print('linear matrix B:')  \n",
    "vprint(B)"
   ]
  },
  {
   "cell_type": "markdown",
   "id": "f96bf83e",
   "metadata": {},
   "source": [
    "Die lineare Lösung enthält praktisch nur Beiträge von der Masse m<sub>1</sub>, was insofern Sinn macht, da die Gewichtskraft der zweiten Masse an dem Linearisierungs-Punkt nur eine Führungskraft erzeugt, die in die Bewegungsgleichung aber nicht eingeht. Weiterhin bewegt sich die zweite Masse am Linearisierungspunkt kaum und hat damit einen vernachlässigbaren Einfluss auf die Systembewegung (bei großem Winkel $\\varphi$ natürlich nicht mehr). Das Gewicht der Masse m<sub>2</sub> geht aber anteilig in die \"resultierende\" Federsteifigkeit ein und zwar wird die wirksame Steifigkeit reduziert. Das deutet eine Instabilität an: Wenn die resultierende Federsteifigkeit null oder negativ wird ist das System instabil. Dies wird erreicht, wenn $c*l<=g*m_2$. Bei großer Masse m<sub>2</sub> reicht die Federkraft dann offenbar nicht mehr aus, die Masse m<sub>2</sub> zu halten.\n",
    "<br>Ggü. der originalen Bewegungsgleichung sind die Vorzeichen in der \"force matrix\" vertauscht, da diese auf der rechten Seite angesetzt wird. Das sieht man aber auch schon bei der Zustandsraumdarstellung der entsprechenden nichtlinearen Lösung."
   ]
  }
 ],
 "metadata": {
  "kernelspec": {
   "display_name": "Python 3 (ipykernel)",
   "language": "python",
   "name": "python3"
  },
  "language_info": {
   "codemirror_mode": {
    "name": "ipython",
    "version": 3
   },
   "file_extension": ".py",
   "mimetype": "text/x-python",
   "name": "python",
   "nbconvert_exporter": "python",
   "pygments_lexer": "ipython3",
   "version": "3.10.4"
  }
 },
 "nbformat": 4,
 "nbformat_minor": 5
}

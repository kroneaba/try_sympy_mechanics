{
 "cells": [
  {
   "cell_type": "markdown",
   "id": "8d36d26a",
   "metadata": {},
   "source": [
    "# Gleitendes Zwei-Massen-System\n",
    "Es wird die Aufgabe 4.1 aus Klepp: \"Analytische Methoden\" (Teil c) behandelt. Dieses Dokument betrachtet den Fall mit zwei Freiheitsgraden. Tatsächlich hat das betrachtete System nur einen Freiheitsgrad, deshalb muss auch eine Bindungsgleichung angegeben werden. Es werden die Bewegungsgleichungen hergeleitet und diese anschließend linearisiert. Beides erfolgt symbolisch. "
   ]
  },
  {
   "cell_type": "markdown",
   "id": "094a1700",
   "metadata": {},
   "source": [
    "## Systembeschreibung\n",
    "Das System besteht aus zwei Massen m<sub>1</sub> und m<sub>2</sub>, die jeweils parallel zu einer der Koordinatenachsen gleiten können. Ihre Mittelpunkte sind durch eine masselose starre Stange der Länge l verbunden. Die Masse m<sub>1</sub> ist mit einer Feder verbunden, die parallel zur Bewegungsrichtung wirkt. Zusätzlich wirken Gewichtskräfte (in negativer y-Richtung). Als unabhängige Freiheitsgrade sind die jeweiligen Positionskoordinaten der Massen gewählt, und zwar ist q1 die x-Posionen der Masse m<sub>1</sub> und q2 die y-Position der Masse m<sub>2</sub>."
   ]
  },
  {
   "attachments": {
    "Systemskizze_2FG.png": {
     "image/png": "[encoded data removed]"
    }
   },
   "cell_type": "markdown",
   "id": "260e143a",
   "metadata": {},
   "source": [
    "![Systemskizze_2FG.png](attachment:Systemskizze_2FG.png)\n",
    "Bild 1: Systemskizze"
   ]
  },
  {
   "cell_type": "markdown",
   "id": "88c922b8",
   "metadata": {},
   "source": [
    "## Aufstellen der Bewegungsgleichung\n",
    "Zunächst werden die Variablen und Parameter definiert. Der Positionswinkel wird mit q bezeichnet."
   ]
  },
  {
   "cell_type": "code",
   "execution_count": 1,
   "id": "9241cce8",
   "metadata": {},
   "outputs": [],
   "source": [
    "from sympy import symbols, Matrix\n",
    "from sympy.physics.mechanics import *\n",
    "\n",
    "Vector.simplify = True\n",
    "Matrix.simplify = True\n",
    "\n",
    "q1, q2 = dynamicsymbols('q1 q2')\n",
    "q1d, q2d = dynamicsymbols('q1 q2', 1)\n",
    "q1dd, q2dd = dynamicsymbols('q1 q2', 2)\n",
    "l, m1, m2, g, c = symbols('l m1 m2 g c')"
   ]
  },
  {
   "cell_type": "markdown",
   "id": "cbb1fad1",
   "metadata": {},
   "source": [
    "Dann werden Bezugspunkte definiert:\n",
    "- O ist ein feststehender Punkt (Geschwindigkeit wird explizit null gesetzt)\n",
    "- P1 ist der Mittelpunkt der Masse m<sub>1\n",
    "- P2 ist der Mittelpunkt der Masse m<sub>2"
   ]
  },
  {
   "cell_type": "code",
   "execution_count": 2,
   "id": "da914836",
   "metadata": {},
   "outputs": [],
   "source": [
    "N = ReferenceFrame('N')\n",
    "\n",
    "O = Point('O')\n",
    "P1 = O.locatenew('P1', q1 * N.x)\n",
    "P2 = O.locatenew('P2', q2 * N.y)\n",
    "\n",
    "O.set_vel(N, 0)\n",
    "P1.set_vel(N, q1d * N.x)\n",
    "P2.set_vel(N, q2d * N.y)"
   ]
  },
  {
   "cell_type": "markdown",
   "id": "498eeede",
   "metadata": {},
   "source": [
    "Anschließend werden die beiden Massen definiert."
   ]
  },
  {
   "cell_type": "code",
   "execution_count": 3,
   "id": "a741c7a4",
   "metadata": {},
   "outputs": [],
   "source": [
    "ParM1 = Particle('ParM1', P1, m1)\n",
    "ParM2 = Particle('ParM1', P2, m2)"
   ]
  },
  {
   "cell_type": "raw",
   "id": "0690149b",
   "metadata": {},
   "source": [
    "Nun folgt die Bestimmung der Potentiale. Hier wirken beide Kräfte in negativer Koordinatenrichtung. Da eine Kraft die negative Ableitung des Potenzials ist, die Kräfte hier in negativer Koordinatenrichtung wirken sind die Potentiale positiv. Hier werden die Potentiale direkt über die Lagekoordinaten bestimmt."
   ]
  },
  {
   "cell_type": "code",
   "execution_count": 4,
   "id": "dad7a1db",
   "metadata": {},
   "outputs": [],
   "source": [
    "ParM1.potential_energy = 0.5 * c * q1*q1\n",
    "ParM2.potential_energy = m2 * g * q2"
   ]
  },
  {
   "cell_type": "markdown",
   "id": "ea2951b7",
   "metadata": {},
   "source": [
    "Mit diesen Definitionen kann die Lagrange-Gleichung bestimmt werden. Die holonome Bindungsgleichung, das ist die Abhängigkeit der beiden Koordinaten untereinander, wird mit Hilfe des Satzes des Pythagoras beschrieben. Die Ausgabe erfolgt als herkömmliche Bewegungsgleichung sowie in Zustandsraumdarstellung."
   ]
  },
  {
   "cell_type": "code",
   "execution_count": 5,
   "id": "e1cef7df",
   "metadata": {
    "scrolled": true
   },
   "outputs": [
    {
     "name": "stdout",
     "output_type": "stream",
     "text": [
      "equations:\n",
      "Matrix([\n",
      "[1.0*c*q1 + m1*q1'' + 2*lam1*q1],\n",
      "[    g*m2 + m2*q2'' + 2*lam1*q2]])\n",
      "mass matrix:\n",
      "Matrix([\n",
      "[1, 0,    0,    0,     0],\n",
      "[0, 1,    0,    0,     0],\n",
      "[0, 0,   m1,    0, -2*q1],\n",
      "[0, 0,    0,   m2, -2*q2],\n",
      "[0, 0, 2*q1, 2*q2,     0]])\n",
      "force matrix:\n",
      "Matrix([\n",
      "[                 q1'],\n",
      "[                 q2'],\n",
      "[           -1.0*c*q1],\n",
      "[               -g*m2],\n",
      "[-2*q1'**2 - 2*q2'**2]])\n",
      "mass matrix:\n",
      "Matrix([\n",
      "[m1,  0, -2*q1],\n",
      "[ 0, m2, -2*q2]])\n",
      "force matrix:\n",
      "Matrix([\n",
      "[-1.0*c*q1],\n",
      "[    -g*m2]])\n"
     ]
    }
   ],
   "source": [
    "L = Lagrangian(N, ParM1, ParM2)\n",
    "\n",
    "hol_coneqs = [q1*q1+q2*q2-l*l]\n",
    "\n",
    "lm = LagrangesMethod(L, [q1, q2], bodies=[ParM1, ParM2], hol_coneqs=hol_coneqs)\n",
    "lm.form_lagranges_equations()\n",
    "\n",
    "print('equations:')\n",
    "vprint(lm.form_lagranges_equations())\n",
    "print('mass matrix:')\n",
    "vprint(lm.mass_matrix_full)\n",
    "print('force matrix:')\n",
    "vprint(lm.forcing_full)\n",
    "print('mass matrix:')\n",
    "vprint(lm.mass_matrix)\n",
    "print('force matrix:')\n",
    "vprint(lm.forcing)"
   ]
  },
  {
   "cell_type": "markdown",
   "id": "aa13ec5c",
   "metadata": {},
   "source": [
    "Die beiden Bewegungsgleichungen (Matrix mit Gleichungen) enthalten die Bindungsgleichung in Differentialform (partielle Ableitungen nach den q<sub>i</sub> mal lam1). Die Bindungsgleichung muss bei der Berechnung der Lösung zusätzlich miteinbezogen werden. Dies folgt im Prinzip aus der nichtlinearen Optimierungsrechnung mit Nebenbedingungen. In der Zustandsraumdarstellung ist dagegen die Bindungsgleichung zweimal nach der Zeit abgeleitet und diese Form in den Matrizen enthalten (5. Zeilen der vollen Matrizen)."
   ]
  },
  {
   "cell_type": "markdown",
   "id": "d12b52f4",
   "metadata": {},
   "source": [
    "## Linearisierung\n",
    "Hier wird zweimal linearisiert, wobei jeweils eine der Positionskoordinaten als unabhängige Variable verwendet wird. \n",
    "Im ersten Fall ist q1 die unabhängige Variable. Der Linearisierungs-Punkt ist q1=0, dann ist q2=l."
   ]
  },
  {
   "cell_type": "code",
   "execution_count": 6,
   "id": "6cd33206",
   "metadata": {},
   "outputs": [
    {
     "name": "stdout",
     "output_type": "stream",
     "text": [
      " \n",
      "q1 is independent\n",
      "linear mass matrix:\n",
      "Matrix([\n",
      "[1, 0,  0,   0,   0],\n",
      "[0, 1,  0,   0,   0],\n",
      "[0, 0,  0, 2*l,   0],\n",
      "[0, 0, m1,   0,   0],\n",
      "[0, 0,  0,  m2, 2*l]])\n",
      "linear force matrix:\n",
      "Matrix([\n",
      "[              0, 1],\n",
      "[              0, 0],\n",
      "[        -2*q1'', 0],\n",
      "[-1.0*c - 2*lam1, 0],\n",
      "[              0, 0]])\n",
      "linear matrix B:\n",
      "Matrix(0, 0, [])\n"
     ]
    }
   ],
   "source": [
    "# linearization with q1 as independent variable\n",
    "lm_lin1 = lm.to_linearizer(q_ind=[q1], qd_ind=[q1d], q_dep=[q2], qd_dep=[q2d])\n",
    "\n",
    "# linearization about q1=0 & q2=l\n",
    "op_point = {q1: 0, q1d: 0, q2: l, q2d: 0}\n",
    "\n",
    "M1, A1, B1 = lm_lin1.linearize(op_point=op_point)\n",
    "\n",
    "print(' ')\n",
    "print('q1 is independent')\n",
    "print('linear mass matrix:')\n",
    "vprint(M1)\n",
    "print('linear force matrix:')             \n",
    "vprint(A1)\n",
    "print('linear matrix B:')  \n",
    "vprint(B1)"
   ]
  },
  {
   "cell_type": "markdown",
   "id": "f96bf83e",
   "metadata": {
    "slideshow": {
     "slide_type": "slide"
    }
   },
   "source": [
    "Im zweiten Fall ist q2 die unabhängige Variable. Im Linearisierungspunkt darf q1 jedoch nicht null gesetzt werden, um eine Division durch null zu verhindern. Die Koordinaten werden deshalb formal gleich den Richtungsanteilen der Stablänge gesetzt, um ein formales Ergebnis zu erhalten."
   ]
  },
  {
   "cell_type": "code",
   "execution_count": 7,
   "id": "cec4c4f5",
   "metadata": {},
   "outputs": [
    {
     "name": "stdout",
     "output_type": "stream",
     "text": [
      " \n",
      "q2 is independent\n",
      "linear mass matrix:\n",
      "Matrix([\n",
      "[1, 0,    0,    0,    0],\n",
      "[0, 1,    0,    0,    0],\n",
      "[0, 0, 2*lx, 2*ly,    0],\n",
      "[0, 0,   m1,    0, 2*lx],\n",
      "[0, 0,    0,   m2, 2*ly]])\n",
      "linear force matrix:\n",
      "Matrix([\n",
      "[                       0, -ly/lx],\n",
      "[                       0,      1],\n",
      "[  -2*q2'' + 2*ly*q1''/lx,      0],\n",
      "[-ly*(-1.0*c - 2*lam1)/lx,      0],\n",
      "[                 -2*lam1,      0]])\n",
      "linear matrix B:\n",
      "Matrix(0, 0, [])\n"
     ]
    }
   ],
   "source": [
    "# linearization with q2 as independent variable\n",
    "lm_lin2 = lm.to_linearizer(q_ind=[q2], qd_ind=[q2d], q_dep=[q1], qd_dep=[q1d])\n",
    "\n",
    "# linearization about q1=lx & q2=ly\n",
    "# note: linearization at q1=0 and q2=l gives a spurious result here (due to division by zero)\n",
    "lx, ly = symbols('lx ly')\n",
    "op_point2 = {q1: lx, q1d: 0, q2: ly, q2d: 0}\n",
    "\n",
    "M2, A2, B2 = lm_lin2.linearize(op_point=op_point2)\n",
    "\n",
    "print(' ')\n",
    "print('q2 is independent')\n",
    "print('linear mass matrix:')\n",
    "vprint(M2)\n",
    "print('linear force matrix:')             \n",
    "vprint(A2)\n",
    "print('linear matrix B:')  \n",
    "vprint(B2)"
   ]
  }
 ],
 "metadata": {
  "kernelspec": {
   "display_name": "Python 3 (ipykernel)",
   "language": "python",
   "name": "python3"
  },
  "language_info": {
   "codemirror_mode": {
    "name": "ipython",
    "version": 3
   },
   "file_extension": ".py",
   "mimetype": "text/x-python",
   "name": "python",
   "nbconvert_exporter": "python",
   "pygments_lexer": "ipython3",
   "version": "3.10.4"
  }
 },
 "nbformat": 4,
 "nbformat_minor": 5
}

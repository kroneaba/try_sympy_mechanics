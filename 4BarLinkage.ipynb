{
 "cells": [
  {
   "cell_type": "markdown",
   "metadata": {},
   "source": [
    "# Hangig Four Bar Linkage"
   ]
  },
  {
   "cell_type": "markdown",
   "metadata": {},
   "source": [
    "## Introduction\n",
    "This is example 9.7 from the textbook \"Dynamics\" of Roithmayr and Hodges (Cambridge University Press, 2016). It is a hanging\" four bar linkage driven by weight forces. All bars have the same length 2*L. The fourth bar is the ground, where 2*L equals the horizontal distance of the bearings. The intention of this notebook is to show how auxilary speed in Kane's method can be used to derive constrained forces. Here the task is to determine the horizontal restraint force at point P. The following figure shoes a sketch of the system.\n",
    "\n",
    "![](./4BarLinkage.png)\n"
   ]
  },
  {
   "cell_type": "code",
   "execution_count": 16,
   "metadata": {},
   "outputs": [],
   "source": [
    "from sympy import symbols, Matrix, tan, cos, trigsimp\n",
    "from sympy.physics.mechanics import *\n",
    "from sympy import Dummy, lambdify, diff\n",
    "from numpy import array, hstack, zeros, ones, linspace, pi, empty\n",
    "from numpy.linalg import solve\n",
    "from scipy.integrate import odeint\n",
    "import matplotlib.pyplot as plt"
   ]
  },
  {
   "cell_type": "markdown",
   "metadata": {},
   "source": [
    "## Variables\n",
    "The system has one degree of freedom (i.e. q1), with u1 as its derivative. ua is the auxilary speed (horizontal speed at point P) used to derive the restraint force. Additional variables are described by comments. Note: Though the bars have equal shapes, masses and mass moments of inertia are initally treated by different symbols."
   ]
  },
  {
   "cell_type": "code",
   "execution_count": 17,
   "metadata": {},
   "outputs": [],
   "source": [
    "q1 = dynamicsymbols('q1') # generalized coordinate\n",
    "u1, ua = dynamicsymbols('u1 ua') # generalized speeds\n",
    "\n",
    "g, t = symbols('g t') # gravity and time symbols\n",
    "L = symbols('L') # length symbol\n",
    "mA, mB, mC = symbols('mA mB mC') # mass symbols\n",
    "I_A, I_B, I_C = symbols('I_A I_B I_C') # mass symbols"
   ]
  },
  {
   "cell_type": "markdown",
   "metadata": {},
   "source": [
    "## Basic Frames\n",
    "Definition of the inertial frame and the local frame of bar A, which is rotated by q1."
   ]
  },
  {
   "cell_type": "code",
   "execution_count": 18,
   "metadata": {},
   "outputs": [],
   "source": [
    "# frames\n",
    "frame_n = ReferenceFrame('frame_n') # inertial frame\n",
    "frame_e = frame_n.orientnew('frame_e', 'axis', [q1, frame_n.z]) # local frame"
   ]
  },
  {
   "cell_type": "markdown",
   "metadata": {},
   "source": [
    "## Reference Point P\n",
    "This point is normally fixed. Since the horizontal bearing force is to be determined, its horizontal speed is set equal to ua. However, this point does not have any degree of freedom, since ua will finally be set equal to zero."
   ]
  },
  {
   "cell_type": "code",
   "execution_count": 19,
   "metadata": {},
   "outputs": [],
   "source": [
    "# reference point P\n",
    "P = Point('P')\n",
    "P.set_vel(frame_n, ua*frame_n.x)"
   ]
  },
  {
   "cell_type": "markdown",
   "metadata": {},
   "source": [
    "## Center of Gravity of Bar A\n",
    "The center of gravity of bar A (cgA) is defined relative to point P."
   ]
  },
  {
   "cell_type": "code",
   "execution_count": 20,
   "metadata": {},
   "outputs": [
    {
     "name": "stdout",
     "output_type": "stream",
     "text": [
      "velocity of cg of bar A\n",
      "ua*frame_n.x + L*q1'*frame_e.x\n"
     ]
    }
   ],
   "source": [
    "# center point of bar A\n",
    "cgA = P.locatenew('cgA',-L*frame_e.y)\n",
    "cgA.set_vel(frame_e, 0)\n",
    "cgA.v2pt_theory(P, frame_n, frame_e)\n",
    "print('velocity of cg of bar A')\n",
    "vprint(cgA.vel(frame_n))"
   ]
  },
  {
   "cell_type": "markdown",
   "metadata": {},
   "source": [
    "## Center of Gravity of Bar B\n",
    "In the origional system the center of gravity of bar B (cgB) has the same coordinate (q1) and genaralized speed (u1) as bar B, however, it rotates about point S instead of point P. Here the effect of the auxiliary speed ua has to be superposed, assuming an infinitesimal small deviation from the original configuration defined by q1 (see sketch below, however, the effect of ua is exaggerated). Thus the inclination of bar C is assumed such small, that the superposed horizontal velocity at point R practically equals that of point Q, which is ua (if q1 is fixed). On the other hand the superposed speed at point R must be a circumferrential speed, denoted as uB, since bar B can only rotated about point S. The angle between ua and uB is q1, since uB is perpendicular to bar B and ua is parallel to bar C and thus it is in direction x of the inertial frame by assumption. uy is the velocity in direction y of the inertial frame giving uB, when added as a vector to ua. Therefore, uy is perpendicular to bar C. This gives an equation, from which the superposed rotational speed of bar B, resulting in uB, can be derived. The center of gravity of bar B is geometrically defined relative to point S (frame_e), The effect of the auxiliary speed ua is introduced by the additional local frame_Ba, which has an angular speed relative to frame_e due to ua. \n",
    "\n",
    "![](./4BarLinkageEffect_ua.png)\n"
   ]
  },
  {
   "cell_type": "code",
   "execution_count": 21,
   "metadata": {},
   "outputs": [
    {
     "name": "stdout",
     "output_type": "stream",
     "text": [
      "velocity of cg of bar B\n",
      "0\n",
      "L*(q1' + ua/(2*L*cos(q1)))*frame_e.x\n"
     ]
    }
   ],
   "source": [
    "# center point of bar B\n",
    "S = P.locatenew('S',2*L*frame_n.x) # reference point \n",
    "S.set_vel(frame_n, 0)\n",
    "frame_Ba = ReferenceFrame('frame_Ba') # auxiliary frame\n",
    "frame_Ba.set_ang_vel(frame_e, ua/(2*L*cos(q1))*frame_e.z) # rotation due to ua\n",
    "cgB = S.locatenew('cgB',-L*frame_e.y)\n",
    "cgB.set_vel(frame_Ba, 0)\n",
    "cgB.v2pt_theory(S, frame_n, frame_Ba)\n",
    "print('velocity of cg of bar B')\n",
    "vprint(cgB.vel(frame_Ba))\n",
    "vprint(cgB.vel(frame_n))"
   ]
  },
  {
   "cell_type": "markdown",
   "metadata": {},
   "source": [
    "## Center of Gravity of Bar C\n",
    "Though the inclination of bar C due to ua is assumed as infinitesimal small, the vertical velocity uy of R due to ua is not. It depends on q1. Since the vertical speed at point Q due to ua is zero, uy is finally the effect of an angular speed of bar C (rotating about point Q). As with bar B the angular speed is incorperated by an additional local frame (here frame_Ca). Its angular speed is defined relative to the inertial frame, since bar C does not rotate in the original configuration. "
   ]
  },
  {
   "cell_type": "code",
   "execution_count": 22,
   "metadata": {},
   "outputs": [
    {
     "name": "stdout",
     "output_type": "stream",
     "text": [
      "velocity of point Q\n",
      "ua*frame_n.x + 2*L*q1'*frame_e.x\n",
      "velocity of cg of bar C\n",
      "ua*frame_n.x + ua*tan(q1)/2*frame_n.y + 2*L*q1'*frame_e.x\n"
     ]
    }
   ],
   "source": [
    "# center point of bar C\n",
    "Q = P.locatenew('Q',-2*L*frame_e.y) # intermediate point Q\n",
    "Q.set_vel(frame_e, 0)\n",
    "Q.v2pt_theory(P, frame_n, frame_e)\n",
    "frame_Ca = ReferenceFrame('frame_Ca') # auxiliary frame\n",
    "frame_Ca.set_ang_vel(frame_n, ua*tan(q1)/(2*L)*frame_n.z) # rotation due to ua\n",
    "cgC = Q.locatenew('cgC',L*frame_n.x)\n",
    "cgC.set_vel(frame_Ca,0)\n",
    "cgC.v2pt_theory(Q, frame_n, frame_Ca)\n",
    "print('velocity of point Q')\n",
    "vprint(Q.vel(frame_n))\n",
    "print('velocity of cg of bar C')\n",
    "vprint(cgC.vel(frame_n))"
   ]
  },
  {
   "cell_type": "markdown",
   "metadata": {},
   "source": [
    "## Definition of the bodies\n",
    "The full mass moment of inertia matrix has to be transferred. However, here only the elements, which are really needed are defined correctly, the other elements are dummy values for convenience.\n",
    "Though all bars have the same mass and length, the inertia matrix would be the same. Anyway, the matrices are hasndled individually.\n",
    "The frames of the bodies must be the local frames conmsidering the effect of ua."
   ]
  },
  {
   "cell_type": "code",
   "execution_count": 23,
   "metadata": {},
   "outputs": [],
   "source": [
    "# bodies\n",
    "fakI = 1/12*(2*L)*(2*L) # fakI*m gives moment of inertia\n",
    "I_A = inertia(frame_e,mA*fakI,0,mA*fakI) # only relevant inertias are right\n",
    "I_B = inertia(frame_e,mB*fakI,0,mB*fakI)\n",
    "I_C = inertia(frame_n,mC*fakI,0,mC*fakI)\n",
    "\n",
    "barA = Body('barA', cgA, mA, frame_e, I_A)\n",
    "barB = Body('barB', cgB, mB, frame_Ba, I_B)\n",
    "barC = Body('barC', cgC, mC, frame_Ca, I_C)"
   ]
  },
  {
   "cell_type": "markdown",
   "metadata": {},
   "source": [
    "## Definition of the system\n",
    "The definition of the system is somehow standard. Here only weight forces have to be considered, which are applied at the centers of gravity of the bars.\n",
    "The solution is printed using \"trigsimp\" in order to simplify the mathematical expression. Thus the results can be directly compared with those of the textbook."
   ]
  },
  {
   "cell_type": "code",
   "execution_count": 24,
   "metadata": {},
   "outputs": [
    {
     "name": "stdout",
     "output_type": "stream",
     "text": [
      "system mass matrix:\n",
      "Matrix([[1.33333333333333*L**2*mA + 1.33333333333333*L**2*mB + 4*L**2*mC]])\n",
      " \n",
      "system force matrix:\n",
      "Matrix([[-L*g*(mA + mB + 2*mC)*sin(q1)]])\n",
      " \n",
      "auxiliary Kane’s equation:\n",
      "Matrix([[L*mA*u1**2*sin(q1) - L*mA*cos(q1)*u1' - 0.666666666666667*L*mB*u1'/cos(q1) - L*mC*(cos(q1) + 1/cos(q1))*u1' + L*mC*u1**2*sin(q1) - g*mB*tan(q1)/2 - g*mC*tan(q1)/2]])\n",
      " \n"
     ]
    }
   ],
   "source": [
    "# system lists\n",
    "kin_odes = [] # list to hold kinematic ODE's\n",
    "bodies = [] # list to hold particles\n",
    "forces = [] # list to hold applied forces\n",
    "\n",
    "kin_odes.append(q1.diff(t) - u1) # kinematic ODE: dq_i/dt-u_i=0\n",
    "\n",
    "bodies.append(barA)\n",
    "bodies.append(barB)\n",
    "bodies.append(barC)\n",
    "\n",
    "barA.apply_force(-barA.mass*g*frame_n.y,barA.masscenter)\n",
    "barB.apply_force(-barB.mass*g*frame_n.y,barB.masscenter)\n",
    "barC.apply_force(-barC.mass*g*frame_n.y,barC.masscenter)\n",
    "\n",
    "for item in barA.loads:\n",
    "    forces.append(item)\n",
    "\n",
    "for item in barB.loads:\n",
    "    forces.append(item)\n",
    "\n",
    "for item in barC.loads:\n",
    "    forces.append(item)\n",
    "\n",
    "q = [q1]\n",
    "u = [u1]\n",
    "uaux = [ua]\n",
    "\n",
    "kane = KanesMethod(frame_n, q_ind=q, u_ind=u, kd_eqs=kin_odes, u_auxiliary=uaux)# generate EoM's:\n",
    "fr, frstar = kane.kanes_equations(bodies, forces) # fr + frstar = 0\n",
    "\n",
    "print('system mass matrix:')\n",
    "vprint(trigsimp(kane.mass_matrix))\n",
    "print(' ')\n",
    "print('system force matrix:')\n",
    "vprint(trigsimp(kane.forcing))\n",
    "print(' ')\n",
    "print('auxiliary Kane’s equation:')\n",
    "vprint(trigsimp(kane.auxiliary_eqs))\n",
    "print(' ')"
   ]
  },
  {
   "cell_type": "markdown",
   "metadata": {},
   "source": [
    "## Built numeric system \n",
    "Next the system equations are built numerically after importing required modules. In order to determine the reaction force the acceleration will be needed, which is not stored autimatically by the solver. Therfore, a new dynamic symbol is defined and in order to include this symbol an additional set of lists is added. "
   ]
  },
  {
   "cell_type": "code",
   "execution_count": 25,
   "metadata": {},
   "outputs": [],
   "source": [
    "# source: https://www.moorepants.info/blog/npendulum.html\n",
    "# alternative source: http://deebuls.github.io/differential-drive-part-1.html\n",
    "\n",
    "u1d = dynamicsymbols('u1d') # acceleration as new variable\n",
    "\n",
    "# Parameter definitions starting with gravity and the common length\n",
    "parameters = [g, L, mA, mB, mC]\n",
    "parameter_vals = [9.81, 1.0, 1.0, 2.0, 3.0] #Values of constants\n",
    "\n",
    "# Create a list of dynamic symbols for simulation\n",
    "dynamic =  q + u\n",
    "dummy_symbols = [Dummy() for i in dynamic]  # create a dummy symbol for each variable\n",
    "dummy_dict = dict(zip(dynamic, dummy_symbols))\n",
    "kindiff_dict = kane.kindiffdict() # get the solved kinematical differential equations\n",
    "# Substitute into the mass matrix \n",
    "M = kane.mass_matrix_full.subs(kindiff_dict).subs(dummy_dict)\n",
    "# Substitute into the forcing vector\n",
    "F = kane.forcing_full.subs(kindiff_dict).subs(dummy_dict)\n",
    "\n",
    "# Create a list of dynamic symbols for calculation of reaction force\n",
    "AuxEqu = msubs(kane.auxiliary_eqs, {u1.diff(): u1d}) # replaces derivative by a variable\n",
    "dynamic.append(u1d) # add additional acceleration variable\n",
    "dummy_symbols2 = [Dummy() for i in dynamic]  # create a dummy symbol for each variable\n",
    "dummy_dict2 = dict(zip(dynamic, dummy_symbols2))\n",
    "Freac = AuxEqu.subs(kindiff_dict).subs(dummy_dict2)\n",
    "\n",
    "# Create a callable function to evaluate the mass matrix and the forcing vector\n",
    "M_func = lambdify(dummy_symbols + parameters, M)\n",
    "F_func = lambdify(dummy_symbols + parameters, F)\n",
    "Freac_func = lambdify(dummy_symbols2 + parameters, Freac)"
   ]
  },
  {
   "cell_type": "markdown",
   "metadata": {},
   "source": [
    "## Additional functions\n",
    "Two function are defined in order to determine the required additional additional results from the solution of the equation of motion.\n",
    "right_hand_side: determines the acceleration; it is a simply a recurrent solution of a linear equation following from the equation of motion (which is solved for acceleration)\n",
    "reactions: determines the reaction force acc. to the the auxiliary equation of Kane' equations"
   ]
  },
  {
   "cell_type": "code",
   "execution_count": 26,
   "metadata": {},
   "outputs": [],
   "source": [
    "def right_hand_side(x, t, args):\n",
    "    \"\"\"Returns the derivatives of the states.\n",
    "\n",
    "    Parameters\n",
    "    ----------\n",
    "    x : ndarray, shape(2 * (n + 1))\n",
    "        The current state vector.\n",
    "    t : float\n",
    "        The current time.\n",
    "    args : ndarray\n",
    "        The constants.\n",
    "\n",
    "    Returns\n",
    "    -------\n",
    "    dx : ndarray, shape(2 * (n + 1))\n",
    "        The derivative of the state.\n",
    "    \n",
    "    \"\"\"\n",
    "    arguments = hstack((x, args))     # states, input, and parameters\n",
    "    dx = array(solve(M_func(*arguments), # solving for the derivatives\n",
    "        F_func(*arguments))).T[0]\n",
    "\n",
    "    return dx\n"
   ]
  },
  {
   "cell_type": "code",
   "execution_count": 27,
   "metadata": {},
   "outputs": [],
   "source": [
    "def reactions(x, t, args):\n",
    "    \"\"\"Returns the reaction forces acc. to the auxiliary equations at time t.\n",
    "\n",
    "    Parameters\n",
    "    ----------\n",
    "    x : ndarray\n",
    "        The current state vector plus acceleration vector.\n",
    "    t : float\n",
    "        The current time.\n",
    "    args : ndarray\n",
    "        The constants.\n",
    "\n",
    "    Returns\n",
    "    -------\n",
    "    freac : ndarray, \n",
    "        The reaction forces acc. to the auxiliary equations\n",
    "    \n",
    "    \"\"\"\n",
    "    u1d = right_hand_side(x, t, args=parameter_vals) # determine acceleration as solution of the rhs\n",
    "    arguments = hstack((x, array([u1d[1]]), args))  # states, input, and parameters\n",
    "    freac = Freac_func(*arguments) # solving for the derivatives\n",
    " \n",
    "    return freac"
   ]
  },
  {
   "cell_type": "markdown",
   "metadata": {},
   "source": [
    "## Integrating the equation of motion\n",
    "Next the equation of motion is integrated numerically. The initial solution is q1=30deg and u1=0. The time span is set from 0 to 10s. The textbook gives solutions for 9s and 10s. The number of solution points is set to a quantity giving sufficient resolution for a graphical view."
   ]
  },
  {
   "cell_type": "code",
   "execution_count": 28,
   "metadata": {},
   "outputs": [],
   "source": [
    "# Integration of the system\n",
    "x0 = hstack((pi / 6. * ones(len(q)), zeros(len(u)) )) # Initial conditions, q and u\n",
    "npts = 201 # number of sample points\n",
    "t = linspace(0., 10., npts) # time vector\n",
    "y = odeint(right_hand_side, x0, t, args=(parameter_vals,))    # actual integration"
   ]
  },
  {
   "cell_type": "markdown",
   "metadata": {},
   "source": [
    "## Check the results\n",
    "The results are printed every 1s."
   ]
  },
  {
   "cell_type": "code",
   "execution_count": 29,
   "metadata": {},
   "outputs": [
    {
     "name": "stdout",
     "output_type": "stream",
     "text": [
      " \n",
      "solution (t, q1, u1, Fx):\n",
      "0.0 29.999999999999996 0.0 9.203684978719137\n",
      "1.0 -20.25007936792827 -0.8924324311206865 -8.043943539252936\n",
      "2.0 -2.8513448363726064 1.2103360354924522 -1.3575828874052431\n",
      "3.0 24.05114183249253 -0.7214098163829845 8.789477619131151\n",
      "4.0 -29.470208389831853 -0.22497645068332844 -9.207131045245706\n",
      "5.0 15.716020125807695 1.0324720342941553 6.737719115959581\n",
      "6.0 8.448749356129598 -1.1656792050465752 3.915299312202728\n",
      "7.0 -26.98891928980998 0.5259911776742845 -9.115976148005558\n",
      "8.0 27.897901650236296 0.4426904732393262 9.169593905673452\n",
      "9.0 -10.608452085386636 -1.1357587278905015 -4.829076632434633\n",
      "10.0 -13.735152080892346 1.0784157194217343 -6.045561608408226\n",
      " \n"
     ]
    }
   ],
   "source": [
    "# List results for some time points\n",
    "q_deg = empty([npts])\n",
    "Reactions = empty([npts])\n",
    "for i in range(len(t)):\n",
    "    q_deg[i] = y[i,0]*180/pi\n",
    "    Reactions[i] = reactions(y[i,:], t[i], args=parameter_vals)[0]\n",
    "\n",
    "print(' ')\n",
    "print('solution (t, q1, u1, Fx):')\n",
    "for i in range(0,201,20):\n",
    "    print(t[i],q_deg[i],y[i,1],Reactions[i])\n",
    "print(' ')\n"
   ]
  },
  {
   "cell_type": "markdown",
   "metadata": {},
   "source": [
    "The textbook gives the following solutions for the last two rows:<br>\n",
    "q1(9s) = 10.608deg, u1(9s) = -1.1358, Fx=4.829<br>\n",
    "q1(10s) = -13.736deg & u110s) = 1.0784, Fx=6.046<br>\n",
    "The results obtained here are in good agreement with the results from the textbook. However, the reactions differ with respect to the sign. From t=0 ist follows, that here Fx is the force of bar A exerted on the joint (i.e. ground). Its negative value is the force exerted on bar A."
   ]
  },
  {
   "cell_type": "markdown",
   "metadata": {},
   "source": [
    "## Result plot\n",
    "The following diagram shows time variations of the variable q1 (in degree) and the reation force."
   ]
  },
  {
   "cell_type": "code",
   "execution_count": 30,
   "metadata": {},
   "outputs": [
    {
     "data": {
      "image/png": "[encoded data removed]",
      "text/plain": [
       "<Figure size 432x288 with 2 Axes>"
      ]
     },
     "metadata": {
      "needs_background": "light"
     },
     "output_type": "display_data"
    }
   ],
   "source": [
    "# Plot the results\n",
    "fig, ax1 = plt.subplots()\n",
    "\n",
    "color = 'tab:red'\n",
    "ax1.set_xlabel('time / s')\n",
    "ax1.set_ylabel('angle / deg', color=color)\n",
    "ax1.plot(t, q_deg, color=color)\n",
    "ax1.tick_params(axis='y', labelcolor=color)\n",
    "\n",
    "ax2 = ax1.twinx()  # instantiate a second axes that shares the same x-axis\n",
    "\n",
    "color = 'tab:blue'\n",
    "ax2.set_ylabel('Fx / N', color=color)  # we already handled the x-label with ax1\n",
    "ax2.plot(t, Reactions, color=color)\n",
    "ax2.tick_params(axis='y', labelcolor=color)\n",
    "\n",
    "fig.tight_layout()  # otherwise the right y-label is slightly clipped\n",
    "\n",
    "plt.title('swaying angle and horizontal reaction of bar A')\n",
    "plt.show()\n"
   ]
  },
  {
   "cell_type": "markdown",
   "metadata": {},
   "source": [
    "Since neither damping nor friction is considered, the amplitudes remain constant here."
   ]
  }
 ],
 "metadata": {
  "kernelspec": {
   "display_name": "Python 3 (ipykernel)",
   "language": "python",
   "name": "python3"
  },
  "language_info": {
   "codemirror_mode": {
    "name": "ipython",
    "version": 3
   },
   "file_extension": ".py",
   "mimetype": "text/x-python",
   "name": "python",
   "nbconvert_exporter": "python",
   "pygments_lexer": "ipython3",
   "version": "3.10.4"
  }
 },
 "nbformat": 4,
 "nbformat_minor": 2
}
